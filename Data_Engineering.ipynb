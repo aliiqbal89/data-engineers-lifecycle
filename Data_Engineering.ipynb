{
  "nbformat": 4,
  "nbformat_minor": 0,
  "metadata": {
    "colab": {
      "provenance": []
    },
    "kernelspec": {
      "name": "python3",
      "display_name": "Python 3"
    },
    "language_info": {
      "name": "python"
    }
  },
  "cells": [
    {
      "cell_type": "markdown",
      "source": [
        "Data Engineering?"
      ],
      "metadata": {
        "id": "BQ0AYb0d0uCR"
      }
    },
    {
      "cell_type": "markdown",
      "source": [
        "Data engineering is the process of designing, building, and maintaining system and architecture for collecting ,storing, and analyzing data at scale."
      ],
      "metadata": {
        "id": "9YNQOMlK0xqP"
      }
    },
    {
      "cell_type": "markdown",
      "source": [
        "It also involve creating data pipeline that move data from differnt source to storage and analytics platform so that data scientists can use it"
      ],
      "metadata": {
        "id": "uzLlSVU32IZb"
      }
    },
    {
      "cell_type": "markdown",
      "source": [
        "API = Application Programming interface"
      ],
      "metadata": {
        "id": "6CzLYVey8cO8"
      }
    },
    {
      "cell_type": "markdown",
      "source": [
        "Why data engineering important?"
      ],
      "metadata": {
        "id": "J3AAkqS78hgS"
      }
    },
    {
      "cell_type": "markdown",
      "source": [
        "Data is the new oil"
      ],
      "metadata": {
        "id": "X1i0rp6E9c_I"
      }
    },
    {
      "cell_type": "markdown",
      "source": [
        "Raw data is unusable, data engineer clean and organize it for analyses"
      ],
      "metadata": {
        "id": "y4IH2IAy_f2Q"
      }
    },
    {
      "cell_type": "markdown",
      "source": [
        "Supports decision making"
      ],
      "metadata": {
        "id": "Har9wWxO_2k4"
      }
    },
    {
      "cell_type": "markdown",
      "source": [
        "Data science and machine learning"
      ],
      "metadata": {
        "id": "kKtiBa5UAAdc"
      }
    },
    {
      "cell_type": "markdown",
      "source": [
        "Real time example\n",
        "\n",
        "Fraud detection, recommendations,"
      ],
      "metadata": {
        "id": "4sLmn-QhAxhY"
      }
    },
    {
      "cell_type": "markdown",
      "source": [
        "Data Pipeline ?\n",
        "A data pipeline is a series of steps where data is collected from differnt source,\n",
        "Transformed into a clean format, and loaded into a storage (ETL - Extract ,Transforms And Load)"
      ],
      "metadata": {
        "id": "BWjb_vLHB4sD"
      }
    },
    {
      "cell_type": "markdown",
      "source": [
        "What happend if there is no data engineer?"
      ],
      "metadata": {
        "id": "S8W5FwkICZCt"
      }
    },
    {
      "cell_type": "markdown",
      "source": [
        "Decision making would be slow or based on poor quality data"
      ],
      "metadata": {
        "id": "zhysI37wCoh5"
      }
    },
    {
      "cell_type": "markdown",
      "source": [
        "Real time data application might not work properly"
      ],
      "metadata": {
        "id": "OM11TO4IDHQl"
      }
    },
    {
      "cell_type": "markdown",
      "source": [
        "How do data engineer  help scientist ?"
      ],
      "metadata": {
        "id": "k0FAMPJ_EVxJ"
      }
    },
    {
      "cell_type": "markdown",
      "source": [
        "Data engineer prepare and delivering clean,structured data to data scientist.\n",
        "\n",
        "alllow data scientists to focus on analyzing the data and building modl instead of cleaning or organizing it"
      ],
      "metadata": {
        "id": "iT_ivzafEYDa"
      }
    },
    {
      "cell_type": "markdown",
      "source": [
        "What are the main task of data engineer ?"
      ],
      "metadata": {
        "id": "hwRbRoe4FHgZ"
      }
    },
    {
      "cell_type": "markdown",
      "source": [
        "Collecting data from differnt source\n",
        "\n",
        "Cleaning and transformed data\n",
        "\n",
        "Storing data in database or data warehouses\n",
        "\n",
        "Bilding automated pipeline\n",
        "\n",
        "Ensuring data quality and availability"
      ],
      "metadata": {
        "id": "G_maSrtOFL66"
      }
    },
    {
      "cell_type": "markdown",
      "source": [
        "What is a data warehouse ?\n",
        "\n",
        "A data warehouse is a large storage"
      ],
      "metadata": {
        "id": "9nmFGqsnF8To"
      }
    },
    {
      "cell_type": "markdown",
      "source": [
        "Why is clean data important?"
      ],
      "metadata": {
        "id": "4Pzq_Kp5Gb12"
      }
    },
    {
      "cell_type": "markdown",
      "source": [
        "clean data ensures accurate analysis ,avoid error,and help making better decision"
      ],
      "metadata": {
        "id": "R868eW9rGlCa"
      }
    },
    {
      "cell_type": "markdown",
      "source": [
        "What skill are important for data engineer"
      ],
      "metadata": {
        "id": "4u9sl74TGy4Y"
      }
    },
    {
      "cell_type": "markdown",
      "source": [
        "Python\n",
        "\n",
        "SQL\n",
        "\n",
        "Knowledge of Databases\n",
        "\n",
        "Understanding of ETL\n",
        "\n",
        "Data pipeline tool like airflow\n",
        "\n",
        "cloud platform (AWS, GCP, Azure )\n",
        "\n"
      ],
      "metadata": {
        "id": "T3osr1x0HCa1"
      }
    },
    {
      "cell_type": "markdown",
      "source": [
        "Data engineer life cycles"
      ],
      "metadata": {
        "id": "uN3oJjR-IWlK"
      }
    },
    {
      "cell_type": "markdown",
      "source": [
        "1. Data Collection"
      ],
      "metadata": {
        "id": "5g_ZIc8wKjwV"
      }
    },
    {
      "cell_type": "markdown",
      "source": [
        "data is gathered from various sources like Api, database , sensor, websites, logs"
      ],
      "metadata": {
        "id": "JJLAOleMKmDN"
      }
    },
    {
      "cell_type": "markdown",
      "source": [
        "If data isn’t collected correctly ,the entire pipelines fails"
      ],
      "metadata": {
        "id": "CS_hTf9lLIv1"
      }
    },
    {
      "cell_type": "markdown",
      "source": [
        "2. Data cleaning & Validation\n"
      ],
      "metadata": {
        "id": "gII1jK1-LSM_"
      }
    },
    {
      "cell_type": "markdown",
      "source": [
        "data is checked for error, duplicates ,missing values, and incorrect formats\n",
        "\n"
      ],
      "metadata": {
        "id": "oYlIzVnWL7C0"
      }
    },
    {
      "cell_type": "markdown",
      "source": [
        "Dirty data = wrong insight\n",
        "\n",
        "clean data = reliable results"
      ],
      "metadata": {
        "id": "wk60hZyFMJSi"
      }
    },
    {
      "cell_type": "markdown",
      "source": [
        "3. Data Transformation"
      ],
      "metadata": {
        "id": "48Tok0GjMWoM"
      }
    },
    {
      "cell_type": "markdown",
      "source": [
        "Raw data is reshapes  into usable format -\n",
        "\n",
        "Aggregate , joining , formatting , filtering"
      ],
      "metadata": {
        "id": "Zhl4E0YYMgJ0"
      }
    },
    {
      "cell_type": "markdown",
      "source": [
        "Business users and models need structured data they can understand"
      ],
      "metadata": {
        "id": "vHlSe9-PMsDz"
      }
    },
    {
      "cell_type": "markdown",
      "source": [
        "4. Data Storage"
      ],
      "metadata": {
        "id": "6pR61jdxNAjS"
      }
    },
    {
      "cell_type": "markdown",
      "source": [
        "Transformed data is stored in database ,data warehouse"
      ],
      "metadata": {
        "id": "PZXvSmY1NBQX"
      }
    },
    {
      "cell_type": "markdown",
      "source": [
        "5. Data Orchestration ( workflow  scheduling )"
      ],
      "metadata": {
        "id": "UACbVwRwNQIK"
      }
    },
    {
      "cell_type": "markdown",
      "source": [
        "Task in the pipeline are automated and run on schedule (e.g hourly , daily )\n",
        "\n",
        "Failures  are handled with mail or alerts\n",
        "\n"
      ],
      "metadata": {
        "id": "h915JydKNt_t"
      }
    },
    {
      "cell_type": "markdown",
      "source": [
        "Automation save time and ensure consistency"
      ],
      "metadata": {
        "id": "ByQfn0dQO09G"
      }
    },
    {
      "cell_type": "markdown",
      "source": [
        "6.  Data access & serving"
      ],
      "metadata": {
        "id": "06sIZmfvPIjV"
      }
    },
    {
      "cell_type": "markdown",
      "source": [
        "data is made available to analysis , dashboards , machine learning model"
      ],
      "metadata": {
        "id": "X0JWiTg6PXIC"
      }
    },
    {
      "cell_type": "markdown",
      "source": [
        "Power BI, Tableau , Superset"
      ],
      "metadata": {
        "id": "_iB9O4M3Plx2"
      }
    },
    {
      "cell_type": "markdown",
      "source": [
        "7. Monitoring & optimizations\n",
        "\n",
        "Monitors pipeline, check data freshness , fix slow query , broken workflow.\n",
        "\n",
        "\n",
        "Keep system healthy and users Happy 😊"
      ],
      "metadata": {
        "id": "4cM-qCGuPs2-"
      }
    },
    {
      "cell_type": "markdown",
      "source": [
        "INGESTION = COLLECT DATA = Python,Kafka"
      ],
      "metadata": {
        "id": "WWXgDTOHPTSj"
      }
    },
    {
      "cell_type": "markdown",
      "source": [
        "CLEANING = REMOVE BAD DATA = PANDAS,SPARK"
      ],
      "metadata": {
        "id": "Hl1H76Gg5LXS"
      }
    },
    {
      "cell_type": "markdown",
      "source": [
        "TRASFORMATION = RESHAPE DATA = SQL,DBT"
      ],
      "metadata": {
        "id": "XbZu75gE5U1h"
      }
    },
    {
      "cell_type": "markdown",
      "source": [
        "STORAGE = SAVE DATA = REDSHIFT, BIGQUERY"
      ],
      "metadata": {
        "id": "b9oED0C_5g6r"
      }
    },
    {
      "cell_type": "markdown",
      "source": [
        "ORCHESTRATION = AUTOMATE TASKS = AIRFLOW"
      ],
      "metadata": {
        "id": "hxmnF10C5p-a"
      }
    },
    {
      "cell_type": "markdown",
      "source": [
        "SERVING = PROVIDE ACCESS = TABLEAU,"
      ],
      "metadata": {
        "id": "DrRahovY50P6"
      }
    },
    {
      "cell_type": "markdown",
      "source": [
        "Monitoring = TRACK HEATH = GRAFANA"
      ],
      "metadata": {
        "id": "QrH_Si8Y6IkB"
      }
    },
    {
      "cell_type": "code",
      "source": [
        "4. Data Storage"
      ],
      "metadata": {
        "id": "00q6DD3KEs-V"
      },
      "execution_count": null,
      "outputs": []
    }
  ]
}